{
 "cells": [
  {
   "cell_type": "code",
   "execution_count": 17,
   "metadata": {},
   "outputs": [],
   "source": [
    "class Car:\n",
    "\n",
    "    def __init__(self,windows,company,door,enginetype):\n",
    "\n",
    "        self.windows=int(windows)\n",
    "        self.company=company\n",
    "        self.door=int(door)\n",
    "        self.enginetype=enginetype\n",
    "    def drive(self):\n",
    "        print('This is {} car model'.format(self.company))\n",
    "        print(\"its {} engine type\".format(self.enginetype))\n",
    "\n",
    "\n"
   ]
  },
  {
   "cell_type": "code",
   "execution_count": 18,
   "metadata": {},
   "outputs": [
    {
     "name": "stdout",
     "output_type": "stream",
     "text": [
      "This is BMW car model\n",
      "its CNG engine type\n"
     ]
    }
   ],
   "source": [
    "car2=Car(windows=6,door=4,company='BMW',enginetype='CNG')\n",
    "car2.drive()"
   ]
  },
  {
   "cell_type": "code",
   "execution_count": null,
   "metadata": {},
   "outputs": [],
   "source": []
  }
 ],
 "metadata": {
  "kernelspec": {
   "display_name": "test2",
   "language": "python",
   "name": "python3"
  },
  "language_info": {
   "codemirror_mode": {
    "name": "ipython",
    "version": 3
   },
   "file_extension": ".py",
   "mimetype": "text/x-python",
   "name": "python",
   "nbconvert_exporter": "python",
   "pygments_lexer": "ipython3",
   "version": "3.8.18"
  }
 },
 "nbformat": 4,
 "nbformat_minor": 2
}
