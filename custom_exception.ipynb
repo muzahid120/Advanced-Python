{
 "cells": [
  {
   "cell_type": "code",
   "execution_count": 9,
   "metadata": {},
   "outputs": [],
   "source": [
    "class error(Exception):\n",
    "    pass\n",
    "class dob_Exception(error):\n",
    "    pass\n",
    "    "
   ]
  },
  {
   "cell_type": "code",
   "execution_count": 11,
   "metadata": {},
   "outputs": [
    {
     "name": "stdout",
     "output_type": "stream",
     "text": [
      "you are not valid to applying the jobs\n",
      "Thank you for visit our website \n"
     ]
    }
   ],
   "source": [
    "try:\n",
    "    year=int(input('Enter your barthday'))\n",
    "\n",
    "    age=2024-year\n",
    "    if age<=30 and age>20:\n",
    "        print('your are right candidate for applying')\n",
    "    else:\n",
    "\n",
    "        raise dob_Exception\n",
    "except dob_Exception:\n",
    "    print('you are not valid to applying the jobs')\n",
    "    print('Thank you for visit our website ')\n"
   ]
  },
  {
   "cell_type": "code",
   "execution_count": 14,
   "metadata": {},
   "outputs": [
    {
     "name": "stdout",
     "output_type": "stream",
     "text": [
      "Your are right candidate for applying\n",
      "Wow greate opportunity wait for you !\n",
      "Thank you for visite our website \n"
     ]
    }
   ],
   "source": [
    "try:\n",
    "    year=int(input('Enter your barthday'))\n",
    "\n",
    "    age=2024-year\n",
    "    if age<=30 and age>20:\n",
    "        print('Your are right candidate for applying')\n",
    "        print('Wow greate opportunity wait for you !')\n",
    "        print('Thank you for visite our website ')\n",
    "    else:\n",
    "\n",
    "        raise dob_Exception\n",
    "except dob_Exception:\n",
    "    print('You are not valid to applying the jobs')\n",
    "    print('Thank you for visit our website ')"
   ]
  }
 ],
 "metadata": {
  "kernelspec": {
   "display_name": "test2",
   "language": "python",
   "name": "python3"
  },
  "language_info": {
   "codemirror_mode": {
    "name": "ipython",
    "version": 3
   },
   "file_extension": ".py",
   "mimetype": "text/x-python",
   "name": "python",
   "nbconvert_exporter": "python",
   "pygments_lexer": "ipython3",
   "version": "3.8.18"
  }
 },
 "nbformat": 4,
 "nbformat_minor": 2
}
