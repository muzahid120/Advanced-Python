{
 "cells": [
  {
   "cell_type": "code",
   "execution_count": 30,
   "metadata": {},
   "outputs": [
    {
     "ename": "NameError",
     "evalue": "name 'c' is not defined",
     "output_type": "error",
     "traceback": [
      "\u001b[1;31m---------------------------------------------------------------------------\u001b[0m",
      "\u001b[1;31mNameError\u001b[0m                                 Traceback (most recent call last)",
      "Cell \u001b[1;32mIn[30], line 2\u001b[0m\n\u001b[0;32m      1\u001b[0m a\u001b[38;5;241m=\u001b[39m\u001b[38;5;241m10\u001b[39m\n\u001b[1;32m----> 2\u001b[0m b\u001b[38;5;241m=\u001b[39m\u001b[43mc\u001b[49m\n\u001b[0;32m      3\u001b[0m d\u001b[38;5;241m=\u001b[39ma\u001b[38;5;241m+\u001b[39mb\n",
      "\u001b[1;31mNameError\u001b[0m: name 'c' is not defined"
     ]
    }
   ],
   "source": [
    "a=10\n",
    "b=c\n",
    "d=a+b"
   ]
  },
  {
   "cell_type": "code",
   "execution_count": null,
   "metadata": {},
   "outputs": [
    {
     "name": "stdout",
     "output_type": "stream",
     "text": [
      "User did not defined with variable\n"
     ]
    }
   ],
   "source": [
    "try:\n",
    "    a=10\n",
    "    b=c\n",
    "    d=a+b\n",
    "except NameError as ex2:\n",
    "    print('User did not defined with variable')\n",
    "\n",
    "except Exception as ex1:\n",
    "    print(ex1)"
   ]
  },
  {
   "cell_type": "code",
   "execution_count": null,
   "metadata": {},
   "outputs": [
    {
     "name": "stdout",
     "output_type": "stream",
     "text": [
      "assinge similar data type \n"
     ]
    }
   ],
   "source": [
    "try:\n",
    "    a=\" dada\"\n",
    "    b=12\n",
    "    c=a+b\n",
    "except TypeError as ex1:\n",
    "    print('assinge similar data type ')\n",
    "except Exception as ex1:\n",
    "    print(ex1)\n",
    "\n"
   ]
  },
  {
   "cell_type": "code",
   "execution_count": null,
   "metadata": {},
   "outputs": [
    {
     "name": "stdout",
     "output_type": "stream",
     "text": [
      "variable can not divided by zero\n"
     ]
    }
   ],
   "source": [
    "try:\n",
    "    a=int(input('Enter the NUmber here:-'))\n",
    "    b= int(input('Enter the Number here:-'))\n",
    "    print('Division_operation:',a/b)\n",
    "    print('multipcation:',a*b)\n",
    "    print('add op:',a+b)\n",
    "    print('minus_op:',a-b)\n",
    "except ZeroDivisionError:\n",
    "    print('variable can not divided by zero')\n",
    "except Exception as ex1:\n",
    "    print(ex1)"
   ]
  },
  {
   "cell_type": "markdown",
   "metadata": {},
   "source": [
    "# try except block with else\n"
   ]
  },
  {
   "cell_type": "code",
   "execution_count": 31,
   "metadata": {},
   "outputs": [
    {
     "name": "stdout",
     "output_type": "stream",
     "text": [
      "Division_operation: 6.0\n",
      "multipcation: 150\n",
      "add op: 35\n",
      "minus_op: 25\n"
     ]
    }
   ],
   "source": [
    "try:\n",
    "    a=int(input('Enter the NUmber here:-'))\n",
    "    b= int(input('Enter the Number here:-'))\n",
    "   \n",
    "except ZeroDivisionError:\n",
    "    print('variable can not divided by zero')\n",
    "except Exception as ex1:\n",
    "    print(ex1)\n",
    "else:\n",
    "    print('Division_operation:',a/b)\n",
    "    print('multipcation:',a*b)\n",
    "    print('add op:',a+b)\n",
    "    print('minus_op:',a-b)"
   ]
  },
  {
   "cell_type": "markdown",
   "metadata": {},
   "source": [
    "# try block with else with finaly"
   ]
  },
  {
   "cell_type": "code",
   "execution_count": 33,
   "metadata": {},
   "outputs": [
    {
     "name": "stdout",
     "output_type": "stream",
     "text": [
      "Division_operation: 2.0\n",
      "multipcation: 50\n",
      "add op: 15\n",
      "minus_op: 5\n",
      "The excuation Successful \n"
     ]
    }
   ],
   "source": [
    "try:\n",
    "    a=int(input('Enter the NUmber here:-'))\n",
    "    b= int(input('Enter the Number here:-'))\n",
    "   \n",
    "except ZeroDivisionError:\n",
    "    print('variable can not divided by zero')\n",
    "except Exception as ex1:\n",
    "    print(ex1)\n",
    "else:\n",
    "    print('Division_operation:',a/b)\n",
    "    print('multipcation:',a*b)\n",
    "    print('add op:',a+b)\n",
    "    print('minus_op:',a-b)\n",
    "finally:\n",
    "    print('The excuation Successful ')"
   ]
  }
 ],
 "metadata": {
  "kernelspec": {
   "display_name": "test2",
   "language": "python",
   "name": "python3"
  },
  "language_info": {
   "codemirror_mode": {
    "name": "ipython",
    "version": 3
   },
   "file_extension": ".py",
   "mimetype": "text/x-python",
   "name": "python",
   "nbconvert_exporter": "python",
   "pygments_lexer": "ipython3",
   "version": "3.8.18"
  }
 },
 "nbformat": 4,
 "nbformat_minor": 2
}
