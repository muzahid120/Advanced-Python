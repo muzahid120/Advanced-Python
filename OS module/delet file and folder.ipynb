{
 "cells": [
  {
   "cell_type": "code",
   "execution_count": 20,
   "metadata": {},
   "outputs": [],
   "source": [
    "import os "
   ]
  },
  {
   "cell_type": "code",
   "execution_count": 21,
   "metadata": {},
   "outputs": [
    {
     "ename": "FileNotFoundError",
     "evalue": "[WinError 2] The system cannot find the file specified: 'C:\\\\Users\\\\SDS\\\\Desktop\\\\New Text Document.txt'",
     "output_type": "error",
     "traceback": [
      "\u001b[1;31m---------------------------------------------------------------------------\u001b[0m",
      "\u001b[1;31mFileNotFoundError\u001b[0m                         Traceback (most recent call last)",
      "Cell \u001b[1;32mIn[21], line 1\u001b[0m\n\u001b[1;32m----> 1\u001b[0m \u001b[43mos\u001b[49m\u001b[38;5;241;43m.\u001b[39;49m\u001b[43mremove\u001b[49m\u001b[43m(\u001b[49m\u001b[38;5;124;43mr\u001b[39;49m\u001b[38;5;124;43m'\u001b[39;49m\u001b[38;5;124;43mC:\u001b[39;49m\u001b[38;5;124;43m\\\u001b[39;49m\u001b[38;5;124;43mUsers\u001b[39;49m\u001b[38;5;124;43m\\\u001b[39;49m\u001b[38;5;124;43mSDS\u001b[39;49m\u001b[38;5;124;43m\\\u001b[39;49m\u001b[38;5;124;43mDesktop\u001b[39;49m\u001b[38;5;124;43m\\\u001b[39;49m\u001b[38;5;124;43mNew Text Document.txt\u001b[39;49m\u001b[38;5;124;43m'\u001b[39;49m\u001b[43m)\u001b[49m\n",
      "\u001b[1;31mFileNotFoundError\u001b[0m: [WinError 2] The system cannot find the file specified: 'C:\\\\Users\\\\SDS\\\\Desktop\\\\New Text Document.txt'"
     ]
    }
   ],
   "source": [
    "os.remove(r'C:\\Users\\SDS\\Desktop\\New Text Document.txt')"
   ]
  },
  {
   "cell_type": "code",
   "execution_count": 31,
   "metadata": {},
   "outputs": [],
   "source": [
    "path=r'C:\\Users\\SDS\\Advanced_python\\Advanced-Python\\OS module\\parrot'\n",
    "list_path=os.listdir(r'C:\\Users\\SDS\\Advanced_python\\Advanced-Python\\OS module\\parrot')"
   ]
  },
  {
   "cell_type": "code",
   "execution_count": 32,
   "metadata": {},
   "outputs": [
    {
     "name": "stdout",
     "output_type": "stream",
     "text": [
      "C:\\Users\\SDS\\Advanced_python\\Advanced-Python\\OS module\\parrot\\creatfile and folder.ipynb\n",
      "C:\\Users\\SDS\\Advanced_python\\Advanced-Python\\OS module\\parrot\\current dir.ipynb\n",
      "C:\\Users\\SDS\\Advanced_python\\Advanced-Python\\OS module\\parrot\\delet file and folder.ipynb\n",
      "C:\\Users\\SDS\\Advanced_python\\Advanced-Python\\OS module\\parrot\\list file and folder.ipynb\n"
     ]
    }
   ],
   "source": [
    "for i in list_path:\n",
    "    print(os.path.join(path,i))\n",
    "    os.remove(os.path.join(path,i))"
   ]
  }
 ],
 "metadata": {
  "kernelspec": {
   "display_name": "test2",
   "language": "python",
   "name": "python3"
  },
  "language_info": {
   "codemirror_mode": {
    "name": "ipython",
    "version": 3
   },
   "file_extension": ".py",
   "mimetype": "text/x-python",
   "name": "python",
   "nbconvert_exporter": "python",
   "pygments_lexer": "ipython3",
   "version": "3.8.18"
  }
 },
 "nbformat": 4,
 "nbformat_minor": 2
}
