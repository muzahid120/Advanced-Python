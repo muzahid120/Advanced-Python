{
 "cells": [
  {
   "cell_type": "code",
   "execution_count": 28,
   "metadata": {},
   "outputs": [],
   "source": [
    "import os \n",
    "number_of_folder=5\n",
    "numBer_of_file=10\n"
   ]
  },
  {
   "cell_type": "markdown",
   "metadata": {},
   "source": [
    "base directory\n"
   ]
  },
  {
   "cell_type": "code",
   "execution_count": 29,
   "metadata": {},
   "outputs": [],
   "source": [
    "base_directory='base_folder'"
   ]
  },
  {
   "cell_type": "code",
   "execution_count": 30,
   "metadata": {},
   "outputs": [],
   "source": [
    "extension='py'\n",
    "for folder in range(number_of_folder):\n",
    "    folder_name=f'folder_{folder}'\n",
    "    folder_path=os.path.join(base_directory,folder_name)\n",
    "    os.makedirs(folder_path)\n",
    "\n",
    "    for file in range (numBer_of_file):\n",
    "        file_name =f'file_number{file}.{extension}'\n",
    "        file_path=os.path.join(folder_path,file_name)\n",
    "        with open (file_path,mode='w') as file_writer:\n",
    "            pass\n",
    "    \n",
    "    \n",
    "\n",
    "    "
   ]
  },
  {
   "cell_type": "code",
   "execution_count": 31,
   "metadata": {},
   "outputs": [],
   "source": [
    "base_directory='China_model'"
   ]
  },
  {
   "cell_type": "code",
   "execution_count": 33,
   "metadata": {},
   "outputs": [],
   "source": [
    "extension='py'\n",
    "for folder in range(1,number_of_folder + 1):\n",
    "    folder_name=f'folder_{folder}'\n",
    "    folder_path=os.path.join(base_directory,folder_name)\n",
    "    os.makedirs(folder_path)\n",
    "\n",
    "    for file in range (1,numBer_of_file+1):\n",
    "        file_name =f'file_number{file}.{extension}'\n",
    "        file_path=os.path.join(folder_path,file_name)\n",
    "        with open (file_path,mode='w') as file_writer:\n",
    "            pass"
   ]
  }
 ],
 "metadata": {
  "kernelspec": {
   "display_name": "test2",
   "language": "python",
   "name": "python3"
  },
  "language_info": {
   "codemirror_mode": {
    "name": "ipython",
    "version": 3
   },
   "file_extension": ".py",
   "mimetype": "text/x-python",
   "name": "python",
   "nbconvert_exporter": "python",
   "pygments_lexer": "ipython3",
   "version": "3.8.18"
  }
 },
 "nbformat": 4,
 "nbformat_minor": 2
}
